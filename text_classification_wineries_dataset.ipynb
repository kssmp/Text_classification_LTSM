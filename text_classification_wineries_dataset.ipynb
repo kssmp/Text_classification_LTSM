{
  "nbformat": 4,
  "nbformat_minor": 0,
  "metadata": {
    "colab": {
      "provenance": [],
      "authorship_tag": "ABX9TyNG0q2dXgdZnube+jG6dFeK",
      "include_colab_link": true
    },
    "kernelspec": {
      "name": "python3",
      "display_name": "Python 3"
    },
    "language_info": {
      "name": "python"
    }
  },
  "cells": [
    {
      "cell_type": "markdown",
      "metadata": {
        "id": "view-in-github",
        "colab_type": "text"
      },
      "source": [
        "<a href=\"https://colab.research.google.com/github/kssmp/Text_classification_LTSM/blob/main/text_classification_wineries_dataset.ipynb\" target=\"_parent\"><img src=\"https://colab.research.google.com/assets/colab-badge.svg\" alt=\"Open In Colab\"/></a>"
      ]
    },
    {
      "cell_type": "code",
      "execution_count": null,
      "metadata": {
        "id": "U--LKr6-fXvA"
      },
      "outputs": [],
      "source": [
        "import pandas as pd\n",
        "import numpy as np\n",
        "import matplotlib.pyplot as plt\n",
        "\n",
        "import tensorflow as tf\n",
        "import tensorflow_hub as hub"
      ]
    },
    {
      "cell_type": "code",
      "source": [
        "df = pd.read_csv(\"wine-reviews.csv\", usecols = ['description', 'points'] , error_bad_lines = False , engine = \"python\")\n",
        "df.head()"
      ],
      "metadata": {
        "colab": {
          "base_uri": "https://localhost:8080/",
          "height": 298
        },
        "id": "48xDUU2giYaM",
        "outputId": "4e62450e-c009-4126-a783-1391a877c710"
      },
      "execution_count": null,
      "outputs": [
        {
          "output_type": "stream",
          "name": "stderr",
          "text": [
            "<ipython-input-9-1c2ccd03ff3a>:1: FutureWarning: The error_bad_lines argument has been deprecated and will be removed in a future version. Use on_bad_lines in the future.\n",
            "\n",
            "\n",
            "  df = pd.read_csv(\"wine-reviews.csv\", usecols = ['description', 'points'] , error_bad_lines = False , engine = \"python\")\n"
          ]
        },
        {
          "output_type": "execute_result",
          "data": {
            "text/plain": [
              "                                         description  points\n",
              "0  Aromas include tropical fruit, broom, brimston...      87\n",
              "1  This is ripe and fruity, a wine that is smooth...      87\n",
              "2  Tart and snappy, the flavors of lime flesh and...      87\n",
              "3  Pineapple rind, lemon pith and orange blossom ...      87\n",
              "4  Much like the regular bottling from 2012, this...      87"
            ],
            "text/html": [
              "\n",
              "  <div id=\"df-984cc0d2-731c-4663-9ddb-cd09cfbbff0a\">\n",
              "    <div class=\"colab-df-container\">\n",
              "      <div>\n",
              "<style scoped>\n",
              "    .dataframe tbody tr th:only-of-type {\n",
              "        vertical-align: middle;\n",
              "    }\n",
              "\n",
              "    .dataframe tbody tr th {\n",
              "        vertical-align: top;\n",
              "    }\n",
              "\n",
              "    .dataframe thead th {\n",
              "        text-align: right;\n",
              "    }\n",
              "</style>\n",
              "<table border=\"1\" class=\"dataframe\">\n",
              "  <thead>\n",
              "    <tr style=\"text-align: right;\">\n",
              "      <th></th>\n",
              "      <th>description</th>\n",
              "      <th>points</th>\n",
              "    </tr>\n",
              "  </thead>\n",
              "  <tbody>\n",
              "    <tr>\n",
              "      <th>0</th>\n",
              "      <td>Aromas include tropical fruit, broom, brimston...</td>\n",
              "      <td>87</td>\n",
              "    </tr>\n",
              "    <tr>\n",
              "      <th>1</th>\n",
              "      <td>This is ripe and fruity, a wine that is smooth...</td>\n",
              "      <td>87</td>\n",
              "    </tr>\n",
              "    <tr>\n",
              "      <th>2</th>\n",
              "      <td>Tart and snappy, the flavors of lime flesh and...</td>\n",
              "      <td>87</td>\n",
              "    </tr>\n",
              "    <tr>\n",
              "      <th>3</th>\n",
              "      <td>Pineapple rind, lemon pith and orange blossom ...</td>\n",
              "      <td>87</td>\n",
              "    </tr>\n",
              "    <tr>\n",
              "      <th>4</th>\n",
              "      <td>Much like the regular bottling from 2012, this...</td>\n",
              "      <td>87</td>\n",
              "    </tr>\n",
              "  </tbody>\n",
              "</table>\n",
              "</div>\n",
              "      <button class=\"colab-df-convert\" onclick=\"convertToInteractive('df-984cc0d2-731c-4663-9ddb-cd09cfbbff0a')\"\n",
              "              title=\"Convert this dataframe to an interactive table.\"\n",
              "              style=\"display:none;\">\n",
              "        \n",
              "  <svg xmlns=\"http://www.w3.org/2000/svg\" height=\"24px\"viewBox=\"0 0 24 24\"\n",
              "       width=\"24px\">\n",
              "    <path d=\"M0 0h24v24H0V0z\" fill=\"none\"/>\n",
              "    <path d=\"M18.56 5.44l.94 2.06.94-2.06 2.06-.94-2.06-.94-.94-2.06-.94 2.06-2.06.94zm-11 1L8.5 8.5l.94-2.06 2.06-.94-2.06-.94L8.5 2.5l-.94 2.06-2.06.94zm10 10l.94 2.06.94-2.06 2.06-.94-2.06-.94-.94-2.06-.94 2.06-2.06.94z\"/><path d=\"M17.41 7.96l-1.37-1.37c-.4-.4-.92-.59-1.43-.59-.52 0-1.04.2-1.43.59L10.3 9.45l-7.72 7.72c-.78.78-.78 2.05 0 2.83L4 21.41c.39.39.9.59 1.41.59.51 0 1.02-.2 1.41-.59l7.78-7.78 2.81-2.81c.8-.78.8-2.07 0-2.86zM5.41 20L4 18.59l7.72-7.72 1.47 1.35L5.41 20z\"/>\n",
              "  </svg>\n",
              "      </button>\n",
              "      \n",
              "  <style>\n",
              "    .colab-df-container {\n",
              "      display:flex;\n",
              "      flex-wrap:wrap;\n",
              "      gap: 12px;\n",
              "    }\n",
              "\n",
              "    .colab-df-convert {\n",
              "      background-color: #E8F0FE;\n",
              "      border: none;\n",
              "      border-radius: 50%;\n",
              "      cursor: pointer;\n",
              "      display: none;\n",
              "      fill: #1967D2;\n",
              "      height: 32px;\n",
              "      padding: 0 0 0 0;\n",
              "      width: 32px;\n",
              "    }\n",
              "\n",
              "    .colab-df-convert:hover {\n",
              "      background-color: #E2EBFA;\n",
              "      box-shadow: 0px 1px 2px rgba(60, 64, 67, 0.3), 0px 1px 3px 1px rgba(60, 64, 67, 0.15);\n",
              "      fill: #174EA6;\n",
              "    }\n",
              "\n",
              "    [theme=dark] .colab-df-convert {\n",
              "      background-color: #3B4455;\n",
              "      fill: #D2E3FC;\n",
              "    }\n",
              "\n",
              "    [theme=dark] .colab-df-convert:hover {\n",
              "      background-color: #434B5C;\n",
              "      box-shadow: 0px 1px 3px 1px rgba(0, 0, 0, 0.15);\n",
              "      filter: drop-shadow(0px 1px 2px rgba(0, 0, 0, 0.3));\n",
              "      fill: #FFFFFF;\n",
              "    }\n",
              "  </style>\n",
              "\n",
              "      <script>\n",
              "        const buttonEl =\n",
              "          document.querySelector('#df-984cc0d2-731c-4663-9ddb-cd09cfbbff0a button.colab-df-convert');\n",
              "        buttonEl.style.display =\n",
              "          google.colab.kernel.accessAllowed ? 'block' : 'none';\n",
              "\n",
              "        async function convertToInteractive(key) {\n",
              "          const element = document.querySelector('#df-984cc0d2-731c-4663-9ddb-cd09cfbbff0a');\n",
              "          const dataTable =\n",
              "            await google.colab.kernel.invokeFunction('convertToInteractive',\n",
              "                                                     [key], {});\n",
              "          if (!dataTable) return;\n",
              "\n",
              "          const docLinkHtml = 'Like what you see? Visit the ' +\n",
              "            '<a target=\"_blank\" href=https://colab.research.google.com/notebooks/data_table.ipynb>data table notebook</a>'\n",
              "            + ' to learn more about interactive tables.';\n",
              "          element.innerHTML = '';\n",
              "          dataTable['output_type'] = 'display_data';\n",
              "          await google.colab.output.renderOutput(dataTable, element);\n",
              "          const docLink = document.createElement('div');\n",
              "          docLink.innerHTML = docLinkHtml;\n",
              "          element.appendChild(docLink);\n",
              "        }\n",
              "      </script>\n",
              "    </div>\n",
              "  </div>\n",
              "  "
            ]
          },
          "metadata": {},
          "execution_count": 9
        }
      ]
    },
    {
      "cell_type": "code",
      "source": [
        "df.dropna()"
      ],
      "metadata": {
        "colab": {
          "base_uri": "https://localhost:8080/",
          "height": 424
        },
        "id": "dqwEAgYFifBy",
        "outputId": "6e7f3dfa-35b0-4f08-f83e-5a4ada93a568"
      },
      "execution_count": null,
      "outputs": [
        {
          "output_type": "execute_result",
          "data": {
            "text/plain": [
              "                                             description  points\n",
              "0      Aromas include tropical fruit, broom, brimston...      87\n",
              "1      This is ripe and fruity, a wine that is smooth...      87\n",
              "2      Tart and snappy, the flavors of lime flesh and...      87\n",
              "3      Pineapple rind, lemon pith and orange blossom ...      87\n",
              "4      Much like the regular bottling from 2012, this...      87\n",
              "...                                                  ...     ...\n",
              "95314  This delicious and spicy dessert wine from Mon...      91\n",
              "95315  Here's an inviting Chianti Classico riserva, w...      91\n",
              "95316  This amber-colored nectar is a quintessential ...      91\n",
              "95317  Here's a stunning sparkling wine made in the c...      91\n",
              "95318  Big, dusty tannins dominate this rich and opul...      91\n",
              "\n",
              "[95319 rows x 2 columns]"
            ],
            "text/html": [
              "\n",
              "  <div id=\"df-73d430c1-2f2a-4ea5-a3ef-806ba52f0b8e\">\n",
              "    <div class=\"colab-df-container\">\n",
              "      <div>\n",
              "<style scoped>\n",
              "    .dataframe tbody tr th:only-of-type {\n",
              "        vertical-align: middle;\n",
              "    }\n",
              "\n",
              "    .dataframe tbody tr th {\n",
              "        vertical-align: top;\n",
              "    }\n",
              "\n",
              "    .dataframe thead th {\n",
              "        text-align: right;\n",
              "    }\n",
              "</style>\n",
              "<table border=\"1\" class=\"dataframe\">\n",
              "  <thead>\n",
              "    <tr style=\"text-align: right;\">\n",
              "      <th></th>\n",
              "      <th>description</th>\n",
              "      <th>points</th>\n",
              "    </tr>\n",
              "  </thead>\n",
              "  <tbody>\n",
              "    <tr>\n",
              "      <th>0</th>\n",
              "      <td>Aromas include tropical fruit, broom, brimston...</td>\n",
              "      <td>87</td>\n",
              "    </tr>\n",
              "    <tr>\n",
              "      <th>1</th>\n",
              "      <td>This is ripe and fruity, a wine that is smooth...</td>\n",
              "      <td>87</td>\n",
              "    </tr>\n",
              "    <tr>\n",
              "      <th>2</th>\n",
              "      <td>Tart and snappy, the flavors of lime flesh and...</td>\n",
              "      <td>87</td>\n",
              "    </tr>\n",
              "    <tr>\n",
              "      <th>3</th>\n",
              "      <td>Pineapple rind, lemon pith and orange blossom ...</td>\n",
              "      <td>87</td>\n",
              "    </tr>\n",
              "    <tr>\n",
              "      <th>4</th>\n",
              "      <td>Much like the regular bottling from 2012, this...</td>\n",
              "      <td>87</td>\n",
              "    </tr>\n",
              "    <tr>\n",
              "      <th>...</th>\n",
              "      <td>...</td>\n",
              "      <td>...</td>\n",
              "    </tr>\n",
              "    <tr>\n",
              "      <th>95314</th>\n",
              "      <td>This delicious and spicy dessert wine from Mon...</td>\n",
              "      <td>91</td>\n",
              "    </tr>\n",
              "    <tr>\n",
              "      <th>95315</th>\n",
              "      <td>Here's an inviting Chianti Classico riserva, w...</td>\n",
              "      <td>91</td>\n",
              "    </tr>\n",
              "    <tr>\n",
              "      <th>95316</th>\n",
              "      <td>This amber-colored nectar is a quintessential ...</td>\n",
              "      <td>91</td>\n",
              "    </tr>\n",
              "    <tr>\n",
              "      <th>95317</th>\n",
              "      <td>Here's a stunning sparkling wine made in the c...</td>\n",
              "      <td>91</td>\n",
              "    </tr>\n",
              "    <tr>\n",
              "      <th>95318</th>\n",
              "      <td>Big, dusty tannins dominate this rich and opul...</td>\n",
              "      <td>91</td>\n",
              "    </tr>\n",
              "  </tbody>\n",
              "</table>\n",
              "<p>95319 rows × 2 columns</p>\n",
              "</div>\n",
              "      <button class=\"colab-df-convert\" onclick=\"convertToInteractive('df-73d430c1-2f2a-4ea5-a3ef-806ba52f0b8e')\"\n",
              "              title=\"Convert this dataframe to an interactive table.\"\n",
              "              style=\"display:none;\">\n",
              "        \n",
              "  <svg xmlns=\"http://www.w3.org/2000/svg\" height=\"24px\"viewBox=\"0 0 24 24\"\n",
              "       width=\"24px\">\n",
              "    <path d=\"M0 0h24v24H0V0z\" fill=\"none\"/>\n",
              "    <path d=\"M18.56 5.44l.94 2.06.94-2.06 2.06-.94-2.06-.94-.94-2.06-.94 2.06-2.06.94zm-11 1L8.5 8.5l.94-2.06 2.06-.94-2.06-.94L8.5 2.5l-.94 2.06-2.06.94zm10 10l.94 2.06.94-2.06 2.06-.94-2.06-.94-.94-2.06-.94 2.06-2.06.94z\"/><path d=\"M17.41 7.96l-1.37-1.37c-.4-.4-.92-.59-1.43-.59-.52 0-1.04.2-1.43.59L10.3 9.45l-7.72 7.72c-.78.78-.78 2.05 0 2.83L4 21.41c.39.39.9.59 1.41.59.51 0 1.02-.2 1.41-.59l7.78-7.78 2.81-2.81c.8-.78.8-2.07 0-2.86zM5.41 20L4 18.59l7.72-7.72 1.47 1.35L5.41 20z\"/>\n",
              "  </svg>\n",
              "      </button>\n",
              "      \n",
              "  <style>\n",
              "    .colab-df-container {\n",
              "      display:flex;\n",
              "      flex-wrap:wrap;\n",
              "      gap: 12px;\n",
              "    }\n",
              "\n",
              "    .colab-df-convert {\n",
              "      background-color: #E8F0FE;\n",
              "      border: none;\n",
              "      border-radius: 50%;\n",
              "      cursor: pointer;\n",
              "      display: none;\n",
              "      fill: #1967D2;\n",
              "      height: 32px;\n",
              "      padding: 0 0 0 0;\n",
              "      width: 32px;\n",
              "    }\n",
              "\n",
              "    .colab-df-convert:hover {\n",
              "      background-color: #E2EBFA;\n",
              "      box-shadow: 0px 1px 2px rgba(60, 64, 67, 0.3), 0px 1px 3px 1px rgba(60, 64, 67, 0.15);\n",
              "      fill: #174EA6;\n",
              "    }\n",
              "\n",
              "    [theme=dark] .colab-df-convert {\n",
              "      background-color: #3B4455;\n",
              "      fill: #D2E3FC;\n",
              "    }\n",
              "\n",
              "    [theme=dark] .colab-df-convert:hover {\n",
              "      background-color: #434B5C;\n",
              "      box-shadow: 0px 1px 3px 1px rgba(0, 0, 0, 0.15);\n",
              "      filter: drop-shadow(0px 1px 2px rgba(0, 0, 0, 0.3));\n",
              "      fill: #FFFFFF;\n",
              "    }\n",
              "  </style>\n",
              "\n",
              "      <script>\n",
              "        const buttonEl =\n",
              "          document.querySelector('#df-73d430c1-2f2a-4ea5-a3ef-806ba52f0b8e button.colab-df-convert');\n",
              "        buttonEl.style.display =\n",
              "          google.colab.kernel.accessAllowed ? 'block' : 'none';\n",
              "\n",
              "        async function convertToInteractive(key) {\n",
              "          const element = document.querySelector('#df-73d430c1-2f2a-4ea5-a3ef-806ba52f0b8e');\n",
              "          const dataTable =\n",
              "            await google.colab.kernel.invokeFunction('convertToInteractive',\n",
              "                                                     [key], {});\n",
              "          if (!dataTable) return;\n",
              "\n",
              "          const docLinkHtml = 'Like what you see? Visit the ' +\n",
              "            '<a target=\"_blank\" href=https://colab.research.google.com/notebooks/data_table.ipynb>data table notebook</a>'\n",
              "            + ' to learn more about interactive tables.';\n",
              "          element.innerHTML = '';\n",
              "          dataTable['output_type'] = 'display_data';\n",
              "          await google.colab.output.renderOutput(dataTable, element);\n",
              "          const docLink = document.createElement('div');\n",
              "          docLink.innerHTML = docLinkHtml;\n",
              "          element.appendChild(docLink);\n",
              "        }\n",
              "      </script>\n",
              "    </div>\n",
              "  </div>\n",
              "  "
            ]
          },
          "metadata": {},
          "execution_count": 10
        }
      ]
    },
    {
      "cell_type": "code",
      "source": [
        "plt.hist(df.points , bins = 20)\n",
        "plt.title(\"Points Distribution\")\n",
        "plt.xlabel(\"Points\")\n",
        "plt.ylabel(\"Number\")\n",
        "plt.show()"
      ],
      "metadata": {
        "colab": {
          "base_uri": "https://localhost:8080/",
          "height": 472
        },
        "id": "IBB9fu1rjxjL",
        "outputId": "57a5b26c-6317-4e42-bd08-2873577b9acf"
      },
      "execution_count": null,
      "outputs": [
        {
          "output_type": "display_data",
          "data": {
            "text/plain": [
              "<Figure size 640x480 with 1 Axes>"
            ],
            "image/png": "[encoded data removed]"
          },
          "metadata": {}
        }
      ]
    },
    {
      "cell_type": "code",
      "source": [
        "df[\"label\"] = (df.points >=90).astype(int) # converting out points into 1s and 0s\n",
        "df.head()"
      ],
      "metadata": {
        "colab": {
          "base_uri": "https://localhost:8080/",
          "height": 206
        },
        "id": "a6-QLTBqj4Cm",
        "outputId": "bf27925c-4abe-4706-e3a6-f6b5e7f5d3a6"
      },
      "execution_count": null,
      "outputs": [
        {
          "output_type": "execute_result",
          "data": {
            "text/plain": [
              "                                         description  points  label\n",
              "0  Aromas include tropical fruit, broom, brimston...      87      0\n",
              "1  This is ripe and fruity, a wine that is smooth...      87      0\n",
              "2  Tart and snappy, the flavors of lime flesh and...      87      0\n",
              "3  Pineapple rind, lemon pith and orange blossom ...      87      0\n",
              "4  Much like the regular bottling from 2012, this...      87      0"
            ],
            "text/html": [
              "\n",
              "  <div id=\"df-12d12472-f06e-42d3-a894-c63501d1bcbf\">\n",
              "    <div class=\"colab-df-container\">\n",
              "      <div>\n",
              "<style scoped>\n",
              "    .dataframe tbody tr th:only-of-type {\n",
              "        vertical-align: middle;\n",
              "    }\n",
              "\n",
              "    .dataframe tbody tr th {\n",
              "        vertical-align: top;\n",
              "    }\n",
              "\n",
              "    .dataframe thead th {\n",
              "        text-align: right;\n",
              "    }\n",
              "</style>\n",
              "<table border=\"1\" class=\"dataframe\">\n",
              "  <thead>\n",
              "    <tr style=\"text-align: right;\">\n",
              "      <th></th>\n",
              "      <th>description</th>\n",
              "      <th>points</th>\n",
              "      <th>label</th>\n",
              "    </tr>\n",
              "  </thead>\n",
              "  <tbody>\n",
              "    <tr>\n",
              "      <th>0</th>\n",
              "      <td>Aromas include tropical fruit, broom, brimston...</td>\n",
              "      <td>87</td>\n",
              "      <td>0</td>\n",
              "    </tr>\n",
              "    <tr>\n",
              "      <th>1</th>\n",
              "      <td>This is ripe and fruity, a wine that is smooth...</td>\n",
              "      <td>87</td>\n",
              "      <td>0</td>\n",
              "    </tr>\n",
              "    <tr>\n",
              "      <th>2</th>\n",
              "      <td>Tart and snappy, the flavors of lime flesh and...</td>\n",
              "      <td>87</td>\n",
              "      <td>0</td>\n",
              "    </tr>\n",
              "    <tr>\n",
              "      <th>3</th>\n",
              "      <td>Pineapple rind, lemon pith and orange blossom ...</td>\n",
              "      <td>87</td>\n",
              "      <td>0</td>\n",
              "    </tr>\n",
              "    <tr>\n",
              "      <th>4</th>\n",
              "      <td>Much like the regular bottling from 2012, this...</td>\n",
              "      <td>87</td>\n",
              "      <td>0</td>\n",
              "    </tr>\n",
              "  </tbody>\n",
              "</table>\n",
              "</div>\n",
              "      <button class=\"colab-df-convert\" onclick=\"convertToInteractive('df-12d12472-f06e-42d3-a894-c63501d1bcbf')\"\n",
              "              title=\"Convert this dataframe to an interactive table.\"\n",
              "              style=\"display:none;\">\n",
              "        \n",
              "  <svg xmlns=\"http://www.w3.org/2000/svg\" height=\"24px\"viewBox=\"0 0 24 24\"\n",
              "       width=\"24px\">\n",
              "    <path d=\"M0 0h24v24H0V0z\" fill=\"none\"/>\n",
              "    <path d=\"M18.56 5.44l.94 2.06.94-2.06 2.06-.94-2.06-.94-.94-2.06-.94 2.06-2.06.94zm-11 1L8.5 8.5l.94-2.06 2.06-.94-2.06-.94L8.5 2.5l-.94 2.06-2.06.94zm10 10l.94 2.06.94-2.06 2.06-.94-2.06-.94-.94-2.06-.94 2.06-2.06.94z\"/><path d=\"M17.41 7.96l-1.37-1.37c-.4-.4-.92-.59-1.43-.59-.52 0-1.04.2-1.43.59L10.3 9.45l-7.72 7.72c-.78.78-.78 2.05 0 2.83L4 21.41c.39.39.9.59 1.41.59.51 0 1.02-.2 1.41-.59l7.78-7.78 2.81-2.81c.8-.78.8-2.07 0-2.86zM5.41 20L4 18.59l7.72-7.72 1.47 1.35L5.41 20z\"/>\n",
              "  </svg>\n",
              "      </button>\n",
              "      \n",
              "  <style>\n",
              "    .colab-df-container {\n",
              "      display:flex;\n",
              "      flex-wrap:wrap;\n",
              "      gap: 12px;\n",
              "    }\n",
              "\n",
              "    .colab-df-convert {\n",
              "      background-color: #E8F0FE;\n",
              "      border: none;\n",
              "      border-radius: 50%;\n",
              "      cursor: pointer;\n",
              "      display: none;\n",
              "      fill: #1967D2;\n",
              "      height: 32px;\n",
              "      padding: 0 0 0 0;\n",
              "      width: 32px;\n",
              "    }\n",
              "\n",
              "    .colab-df-convert:hover {\n",
              "      background-color: #E2EBFA;\n",
              "      box-shadow: 0px 1px 2px rgba(60, 64, 67, 0.3), 0px 1px 3px 1px rgba(60, 64, 67, 0.15);\n",
              "      fill: #174EA6;\n",
              "    }\n",
              "\n",
              "    [theme=dark] .colab-df-convert {\n",
              "      background-color: #3B4455;\n",
              "      fill: #D2E3FC;\n",
              "    }\n",
              "\n",
              "    [theme=dark] .colab-df-convert:hover {\n",
              "      background-color: #434B5C;\n",
              "      box-shadow: 0px 1px 3px 1px rgba(0, 0, 0, 0.15);\n",
              "      filter: drop-shadow(0px 1px 2px rgba(0, 0, 0, 0.3));\n",
              "      fill: #FFFFFF;\n",
              "    }\n",
              "  </style>\n",
              "\n",
              "      <script>\n",
              "        const buttonEl =\n",
              "          document.querySelector('#df-12d12472-f06e-42d3-a894-c63501d1bcbf button.colab-df-convert');\n",
              "        buttonEl.style.display =\n",
              "          google.colab.kernel.accessAllowed ? 'block' : 'none';\n",
              "\n",
              "        async function convertToInteractive(key) {\n",
              "          const element = document.querySelector('#df-12d12472-f06e-42d3-a894-c63501d1bcbf');\n",
              "          const dataTable =\n",
              "            await google.colab.kernel.invokeFunction('convertToInteractive',\n",
              "                                                     [key], {});\n",
              "          if (!dataTable) return;\n",
              "\n",
              "          const docLinkHtml = 'Like what you see? Visit the ' +\n",
              "            '<a target=\"_blank\" href=https://colab.research.google.com/notebooks/data_table.ipynb>data table notebook</a>'\n",
              "            + ' to learn more about interactive tables.';\n",
              "          element.innerHTML = '';\n",
              "          dataTable['output_type'] = 'display_data';\n",
              "          await google.colab.output.renderOutput(dataTable, element);\n",
              "          const docLink = document.createElement('div');\n",
              "          docLink.innerHTML = docLinkHtml;\n",
              "          element.appendChild(docLink);\n",
              "        }\n",
              "      </script>\n",
              "    </div>\n",
              "  </div>\n",
              "  "
            ]
          },
          "metadata": {},
          "execution_count": 19
        }
      ]
    },
    {
      "cell_type": "code",
      "source": [
        "train , valid , test = np.split(df.sample(frac = 1) , [int(0.8*len(df)) , int(0.9*len(df))]) # splits as 80% ->train | 10% ->validation | 10% ->test\n"
      ],
      "metadata": {
        "id": "bFNRgMm0kcGx"
      },
      "execution_count": null,
      "outputs": []
    },
    {
      "cell_type": "code",
      "source": [
        "# this function will basically prep our df for us\n",
        "def df_to_dataset (dataframe , shuffle = True , batch_size = 1024):\n",
        "  df = dataframe.copy()\n",
        "  labels = df.pop('label') # drops label from df and labels has only the outputs now\n",
        "  df = df['description'] # now only as the text reviews left\n",
        "  ds = tf.data.Dataset.from_tensor_slices((df,labels))\n",
        "  if shuffle:\n",
        "    ds = ds.shuffle(buffer_size = len(dataframe))\n",
        "  ds = ds.batch(batch_size)\n",
        "  ds = ds.prefetch(tf.data.AUTOTUNE) # this makes sure that the next batch of data is ready beforehand\n",
        "  return ds"
      ],
      "metadata": {
        "id": "980VOQG-lJn2"
      },
      "execution_count": null,
      "outputs": []
    },
    {
      "cell_type": "code",
      "source": [
        "train_data = df_to_dataset(train)\n",
        "valid_data = df_to_dataset(valid)\n",
        "test_data = df_to_dataset(test)"
      ],
      "metadata": {
        "id": "kcQrURO6ocNT"
      },
      "execution_count": null,
      "outputs": []
    },
    {
      "cell_type": "markdown",
      "source": [
        "# Embedding for conversion of text to computer friendly format & ML Model"
      ],
      "metadata": {
        "id": "a2gAX5JCqmVx"
      }
    },
    {
      "cell_type": "code",
      "source": [
        "embedding = \"https://tfhub.dev/google/nnlm-en-dim50/2\" # basically tensorflow hub gives us access to pretrained model which we can use for purposes like embedding our text inputs for the model\n",
        "hub_layer = hub.KerasLayer(embedding, dtype=tf.string, trainable=True)"
      ],
      "metadata": {
        "id": "TRTJP3N6pM0d"
      },
      "execution_count": null,
      "outputs": []
    },
    {
      "cell_type": "code",
      "source": [
        "hub_layer(list(train_data)[0][0])"
      ],
      "metadata": {
        "colab": {
          "base_uri": "https://localhost:8080/"
        },
        "id": "--TT0l4QqzF_",
        "outputId": "680c5098-f3cb-4520-8281-69b922a81eeb"
      },
      "execution_count": null,
      "outputs": [
        {
          "output_type": "execute_result",
          "data": {
            "text/plain": [
              "<tf.Tensor: shape=(1024, 50), dtype=float32, numpy=\n",
              "array([[ 4.21432823e-01, -1.83661193e-01,  2.00721007e-02, ...,\n",
              "        -1.97613612e-01, -1.79063126e-01,  2.58407950e-01],\n",
              "       [ 3.72837812e-01,  1.57685041e-01,  2.66864300e-01, ...,\n",
              "        -2.49557123e-01, -1.88754573e-01,  1.42894655e-01],\n",
              "       [ 3.56305361e-01, -1.61055356e-01,  2.09918514e-01, ...,\n",
              "        -2.71528196e-02, -5.32899916e-01, -6.05432950e-02],\n",
              "       ...,\n",
              "       [ 3.22047919e-01, -3.72218224e-03,  1.04582630e-01, ...,\n",
              "         2.09979955e-02, -1.96475014e-01,  3.13875228e-02],\n",
              "       [ 1.45688400e-01,  1.44519634e-03,  3.78027596e-02, ...,\n",
              "        -2.88412482e-01, -8.27469081e-02,  6.17945741e-04],\n",
              "       [ 3.27087998e-01, -1.05306193e-01, -8.94205049e-02, ...,\n",
              "         6.73625544e-02, -4.53008562e-02,  1.05960644e-04]], dtype=float32)>"
            ]
          },
          "metadata": {},
          "execution_count": 29
        }
      ]
    },
    {
      "cell_type": "code",
      "source": [
        "model = tf.keras.Sequential()\n",
        "model.add(hub_layer)\n",
        "model.add(tf.keras.layers.Dense(16 , activation = 'relu'))\n",
        "model.add(tf.keras.layers.Dropout(0.4))\n",
        "model.add(tf.keras.layers.Dense(16 , activation = 'relu'))\n",
        "model.add(tf.keras.layers.Dropout(0.4))\n",
        "model.add(tf.keras.layers.Dense(1 , activation = 'sigmoid'))"
      ],
      "metadata": {
        "id": "_B8xMN89rbmT"
      },
      "execution_count": null,
      "outputs": []
    },
    {
      "cell_type": "code",
      "source": [
        "model.compile(tf.keras.optimizers.Adam(learning_rate = 0.001),\n",
        "              loss = tf.keras.losses.BinaryCrossentropy(),\n",
        "              metrics = ['accuracy'])"
      ],
      "metadata": {
        "id": "1n3FNgKtsOXz"
      },
      "execution_count": null,
      "outputs": []
    },
    {
      "cell_type": "code",
      "source": [
        "history = model.fit(train_data , epochs = 5 ,  validation_data = valid_data)"
      ],
      "metadata": {
        "colab": {
          "base_uri": "https://localhost:8080/"
        },
        "id": "JLfOYuWxsqD7",
        "outputId": "e1789fba-3d26-47eb-e5eb-4390b4579649"
      },
      "execution_count": null,
      "outputs": [
        {
          "output_type": "stream",
          "name": "stdout",
          "text": [
            "Epoch 1/5\n",
            "75/75 [==============================] - 117s 2s/step - loss: 0.6466 - accuracy: 0.6081 - val_loss: 0.5646 - val_accuracy: 0.6706\n",
            "Epoch 2/5\n",
            "75/75 [==============================] - 104s 1s/step - loss: 0.5334 - accuracy: 0.7178 - val_loss: 0.4438 - val_accuracy: 0.8034\n",
            "Epoch 3/5\n",
            "75/75 [==============================] - 100s 1s/step - loss: 0.4441 - accuracy: 0.8046 - val_loss: 0.3998 - val_accuracy: 0.8158\n",
            "Epoch 4/5\n",
            "75/75 [==============================] - 99s 1s/step - loss: 0.3937 - accuracy: 0.8359 - val_loss: 0.3903 - val_accuracy: 0.8151\n",
            "Epoch 5/5\n",
            "75/75 [==============================] - 99s 1s/step - loss: 0.3625 - accuracy: 0.8527 - val_loss: 0.3859 - val_accuracy: 0.8236\n"
          ]
        }
      ]
    },
    {
      "cell_type": "code",
      "source": [
        "model.evaluate(test_data)"
      ],
      "metadata": {
        "colab": {
          "base_uri": "https://localhost:8080/"
        },
        "id": "IT0ckAiHs53z",
        "outputId": "d9e6735d-24cb-4855-9191-8a7c60e32294"
      },
      "execution_count": null,
      "outputs": [
        {
          "output_type": "stream",
          "name": "stdout",
          "text": [
            "10/10 [==============================] - 2s 202ms/step - loss: 0.3921 - accuracy: 0.8242\n"
          ]
        },
        {
          "output_type": "execute_result",
          "data": {
            "text/plain": [
              "[0.3920697867870331, 0.8241711854934692]"
            ]
          },
          "metadata": {},
          "execution_count": 36
        }
      ]
    },
    {
      "cell_type": "markdown",
      "source": [
        "##LTSM - long short term memory\n",
        "Unlike standard feedforward neural networks, LSTM has feedback connections. Such a recurrent neural network can process not only single data points, but also entire sequences of data. ![Diagram-of-LTSM-layer-of-recurrent-neural-network.png](data:image/png;base64,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)"
      ],
      "metadata": {
        "id": "aRRxe-wOtEIS"
      }
    },
    {
      "cell_type": "code",
      "source": [
        "encoder = tf.keras.layers.TextVectorization(max_tokens = 2000) # maxtokens is the maximum vocabulary size -> encoder will only consider the 2000 most frequent words in the training data\n",
        "encoder.adapt(train_data.map(lambda text , label : text)) #->builds the vocabulary based on the frequency of the tokens in the training data"
      ],
      "metadata": {
        "id": "wuF7obyctBhR"
      },
      "execution_count": null,
      "outputs": []
    },
    {
      "cell_type": "code",
      "source": [
        "vocab = np.array(encoder.get_vocabulary())\n",
        "vocab[:20]"
      ],
      "metadata": {
        "colab": {
          "base_uri": "https://localhost:8080/"
        },
        "id": "hXJjjAOU29p8",
        "outputId": "27b60c08-ee27-469b-bb00-347e10d20d41"
      },
      "execution_count": null,
      "outputs": [
        {
          "output_type": "execute_result",
          "data": {
            "text/plain": [
              "array(['', '[UNK]', 'and', 'the', 'a', 'of', 'with', 'this', 'is', 'wine',\n",
              "       'flavors', 'in', 'it', 'to', 'its', 'on', 'fruit', 'aromas',\n",
              "       'palate', 'that'], dtype='<U17')"
            ]
          },
          "metadata": {},
          "execution_count": 38
        }
      ]
    },
    {
      "cell_type": "code",
      "source": [
        "model = tf.keras.Sequential([\n",
        "    encoder,\n",
        "    tf.keras.layers.Embedding(\n",
        "        input_dim = len(encoder.get_vocabulary()),\n",
        "        output_dim = 32,\n",
        "        mask_zero = True\n",
        "    ),\n",
        "    tf.keras.layers.LSTM(32),\n",
        "    tf.keras.layers.Dense(32 , activation = 'relu'),\n",
        "    tf.keras.layers.Dropout(0.4),\n",
        "    tf.keras.layers.Dense(1 , activation = 'sigmoid')\n",
        "])"
      ],
      "metadata": {
        "id": "ZpbDcoKB3Rop"
      },
      "execution_count": null,
      "outputs": []
    },
    {
      "cell_type": "code",
      "source": [
        "model.compile(optimizer = tf.keras.optimizers.Adam(learning_rate = 0.001),\n",
        "              loss = tf.keras.losses.BinaryCrossentropy(),\n",
        "              metrics = ['accuracy']\n",
        "              )"
      ],
      "metadata": {
        "id": "NQ10kU4045j6"
      },
      "execution_count": null,
      "outputs": []
    },
    {
      "cell_type": "code",
      "source": [
        "history = model.fit(train_data , epochs = 5 , validation_data = valid_data)"
      ],
      "metadata": {
        "colab": {
          "base_uri": "https://localhost:8080/"
        },
        "id": "APzK5nDc5yGp",
        "outputId": "9acbdb2c-83ed-4e1d-ea26-5a7eb2a492ba"
      },
      "execution_count": null,
      "outputs": [
        {
          "output_type": "stream",
          "name": "stdout",
          "text": [
            "Epoch 1/5\n",
            "75/75 [==============================] - 50s 525ms/step - loss: 0.5901 - accuracy: 0.6770 - val_loss: 0.4242 - val_accuracy: 0.8086\n",
            "Epoch 2/5\n",
            "75/75 [==============================] - 40s 536ms/step - loss: 0.3972 - accuracy: 0.8238 - val_loss: 0.3611 - val_accuracy: 0.8385\n",
            "Epoch 3/5\n",
            "75/75 [==============================] - 41s 545ms/step - loss: 0.3635 - accuracy: 0.8397 - val_loss: 0.3546 - val_accuracy: 0.8417\n",
            "Epoch 4/5\n",
            "75/75 [==============================] - 42s 554ms/step - loss: 0.3479 - accuracy: 0.8475 - val_loss: 0.3533 - val_accuracy: 0.8376\n",
            "Epoch 5/5\n",
            "75/75 [==============================] - 41s 542ms/step - loss: 0.3391 - accuracy: 0.8522 - val_loss: 0.3546 - val_accuracy: 0.8391\n"
          ]
        }
      ]
    },
    {
      "cell_type": "code",
      "source": [
        "model.evaluate(test_data)"
      ],
      "metadata": {
        "colab": {
          "base_uri": "https://localhost:8080/"
        },
        "id": "Oqlzs3Mo6n1E",
        "outputId": "4afac714-2655-4a02-f92f-e5e65da22c99"
      },
      "execution_count": null,
      "outputs": [
        {
          "output_type": "stream",
          "name": "stdout",
          "text": [
            "10/10 [==============================] - 4s 397ms/step - loss: 0.3582 - accuracy: 0.8381\n"
          ]
        },
        {
          "output_type": "execute_result",
          "data": {
            "text/plain": [
              "[0.35816052556037903, 0.8381242156028748]"
            ]
          },
          "metadata": {},
          "execution_count": 47
        }
      ]
    }
  ]
}